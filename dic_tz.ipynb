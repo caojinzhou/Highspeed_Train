{
 "cells": [
  {
   "cell_type": "code",
   "execution_count": 18,
   "metadata": {
    "collapsed": false
   },
   "outputs": [],
   "source": [
    "dic ={}\n",
    "nan = 0\n",
    "    #秦沈\n",
    "dic[0] = {'Qinhuangdao':0, 'Huludao':138, 'Jinzhou':181, 'Panjin':250, 'Anshan':305, 'Shenyang':404}\n",
    "    #合宁\n",
    "dic[1] = {'Hefei':0, 'Chuzhou':101, 'Nanjing':156.4}\n",
    "    #胶济\n",
    "dic[2] = {'Jinan':0, 'Zibo':104.5, 'Weifang':200.3, 'Qingdao':361.7}\n",
    "    #合武\n",
    "dic[3] = {'Hefei':0, 'Luan':nan, 'Macheng':nan, 'Hankou':359.361}\n",
    "    #石太\n",
    "dic[4] = {'Taiyuan':0, 'Yangquan':94.8, 'Shijiazhuang':197.9}\n",
    "    #温福\n",
    "dic[5] = {'Wenzhou':0, 'Ningde':206, 'Fuzhou':298}\n",
    "    #遂成(没看懂）\n",
    "dic[6] = {'Suining':0, 'Chengdu':146}\n",
    "    #甬台\n",
    "dic[7] = {'Ningbo':0, 'Taizhou2':152.14, 'Wenzhou':279.09}\n",
    "    #武广\n",
    "dic[8] = {'Wuhan':1189, 'Xianning':1275, 'Yueyang':1403, 'Changsha':1572, 'Zhuzhou':1613, 'Hengyang':1722, 'Chenzhou':1855, 'Shaoguan':1988, 'Qingyuan':2105, 'Guangzhou':2218}\n",
    "    #郑西\n",
    "dic[9] = {'Zhengzhou':0, 'Luoyang':nan, 'Sanmenxia':nan, 'Weinan':nan, 'Xian':455}\n",
    "    #福厦\n",
    "dic[10] = {'Fuzhou':0, 'Xiamen':274.9}\n",
    "    #沪宁\n",
    "dic[11] = {'Shanghai':0, 'Suzhou':84, 'Wuxi':126, 'Changzhou':165, 'Zhenjiang':237, 'Nanjing':301}\n",
    "    #沪杭\n",
    "dic[12] = {'Shanghai':0, 'Jiaxing':84, 'Hangzhou':169}\n",
    "    #宜万(看不懂）\n",
    "dic[13] = {'Yichang':0, 'Chongqing':376.99}\n",
    "    #京沪    Suzhou2=宿州\n",
    "dic[14] = {'Beijing':0, 'Langfang':59, 'Tianjin':131, 'Cangzhou':219, 'Jinan':419, 'Taian':462, 'Jining':533, 'Zaozhuang':625, 'Xuzhou':688, 'Suzhou2':767, 'Bengbu':844, 'Chenzhou':959, 'Nanjing':1018, 'Zhenjiang':1087, 'Changzhou':1144, 'Wuxi':1201, 'Suzhou':1227, 'Shanghai':1302}\n",
    "#城际铁路\n",
    "    #京津\n",
    "dic[15] = {'Beijing':0, 'Tianjin':120}\n",
    "    #沈抚(少数据）\n",
    "dic[16] = {'Shenyang':0, 'Fushun':61}\n",
    "    #成灌城际铁路(少数据）\n",
    "dic[17] = {'Chengdu':0, 'Dujiangyan':67}\n",
    "    #昌九(少数据）\n",
    "dic[18] = {'Nanchang':0, 'Jiujiang':131}\n",
    "    #长吉城际\n",
    "dic[19] = {'Changchun':0, 'Jilin':110.7}\n",
    "    #海南\n",
    "dic[20] = {'Haikou':0, 'Sanya':302}\n",
    "    #广珠\n",
    "dic[21] = {'Guangzhou':0, 'Foshan':15, 'Zhongshan':70, 'Zhuhai':116, 'Jiangmen':72,}\n",
    "    #柳南\n",
    "dic[22] = {'Liuzhou':0, 'Nanning':226}\n",
    "    #武咸城际铁路\n",
    "dic[23] = {'Wuchang':0, 'Xianning':91}\n",
    "    #汉宜\n",
    "dic[24] = {'Wuhan':0, 'Hanchuan':, 'Tianmen':, 'Xiantao':, 'Qianjiang':, 'Jingzhou':,'Zhijiang':,'Yichang':}\n",
    "    #石武\n",
    "dic[25] = {'Shijiazhuang':nan, 'Xingtai':nan, 'Handan':nan,'Anyang':,'Heibi':,'Xinxiang':,'Zhengzhou':,'Xuchang':,'Luohe':,'Zhumadian':,'Xinyang':,'Wuhan':}\n",
    "    #哈大\n",
    "dic[26] = {'Haerbin':,'Changchun':,'Siping':,'Tieling':,'Shenyang':,'Liaoning':,'Anshan':,'Yingkou':,'Dalian':}\n",
    "    #京石\n",
    "dic[27] = {'Tunzhou':,'Gaobeidian':,'Baoding':,'Dingzhou':,'Zhengding Airport':,'Shijiazhuang':}\n",
    "    #渝遂\n",
    "dic[28] = {'Suining':0,'Tongnan':52,'Hechuang':101,'Chongqing':167}\n",
    "    #宁杭\n",
    "dic[29] = {'Nanjing':0,'Zhenjiang'26:,'Changzhou':98,'Wuxi':129,'Huzhou':185,'Hangzhou':256}\n",
    "    #杭甬\n",
    "dic[30] = {'Hangzhou':0,'Shaoxing':42,'Ningbo':150}\n",
    "    #盘营\n",
    "dic[31] = {'Panjin':,'Jingzhou':,'Anshan':,'Yingkou':}\n",
    "    #津秦\n",
    "dic[32] = {'Tianjin':16,'Tangshan':130,'Qinhuangdao':277}\n",
    "    #西宝\n",
    "dic[33] = {'Xian':,'Xianyang':,'Baoji':}\n",
    "    #渝利\n",
    "dic[34] = {'Lichuan':0,'shizhu':95,'Fengdu':144,'Fuling':186,'Changshou':210,'Chongqing':278}\n",
    "    #厦深\n",
    "dic[35] = {'Xiamen','Zhangzhou','Chaozhou','Shantou','Jieyang','Shanwei','Huizhou','Shenzhen'}\n",
    "    #杭长（南昌西站至长沙南站段）\n",
    "dic[36] = {'Hangzhou':0,'Shaoxing':66,'Jinhua':161,'Quzhou':269,'Shangrao':341,'Yingtan':442,'Fuzhou2':485,'Nanchang':582,'Xinyu':709,'Yichun2':758,'Pingxiang':819,'Zhuzhou':848,'Changsha':924}\n",
    "    #杭长（杭州东站至南昌西站段）\n",
    "    dic[i] = {}\n",
    "    #长昆（长沙南站至新晃西站段）\n",
    "dic[37] = {'Changsha':1083,'Xiangtan':1109,'Loudi':1208,'Shaoyang':1260,'Huaihua':1415,'Tongren':1522,'Qiandongnan':1570,'Qiannan':nan,'Guiyang':nan}\n",
    "    #长昆（新晃西站至贵阳北站段）\n",
    "    dic[i] = {}"
   ]
  },
  {
   "cell_type": "code",
   "execution_count": null,
   "metadata": {
    "collapsed": true
   },
   "outputs": [],
   "source": []
  },
  {
   "cell_type": "code",
   "execution_count": null,
   "metadata": {
    "collapsed": true
   },
   "outputs": [],
   "source": []
  }
 ],
 "metadata": {
  "kernelspec": {
   "display_name": "Python 2",
   "language": "python",
   "name": "python2"
  },
  "language_info": {
   "codemirror_mode": {
    "name": "ipython",
    "version": 2
   },
   "file_extension": ".py",
   "mimetype": "text/x-python",
   "name": "python",
   "nbconvert_exporter": "python",
   "pygments_lexer": "ipython2",
   "version": "2.7.10"
  }
 },
 "nbformat": 4,
 "nbformat_minor": 0
}
